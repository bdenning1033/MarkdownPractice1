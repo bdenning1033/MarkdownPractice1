{
 "cells": [
  {
   "cell_type": "markdown",
   "id": "fce317e9",
   "metadata": {},
   "source": [
    "# Brandy Denning-Markdown Practice\n"
   ]
  },
  {
   "cell_type": "markdown",
   "id": "020b1b2d",
   "metadata": {},
   "source": [
    "## Preview Assignment\n",
    "By: Brandy Denning\n",
    "CS 150"
   ]
  },
  {
   "cell_type": "markdown",
   "id": "0f0383aa",
   "metadata": {},
   "source": [
    "### I am an adult student working on finishing my Bachelor's degree from Bellarmine. I first attended Bellarmine back in 2004 after transferring from Spalding University after my freshman year or college. I am interested in coding just because I want to be able to create websites at some point."
   ]
  },
  {
   "cell_type": "markdown",
   "id": "dad5b98b",
   "metadata": {},
   "source": [
    "#### Bullet List of Course Activities\n",
    "* Programming Assignments\n",
    "* Midterm Exam\n",
    "* Final Exam"
   ]
  },
  {
   "cell_type": "markdown",
   "id": "b06f3b57",
   "metadata": {},
   "source": [
    "#### Ordered List of Chapter Names\n",
    "1. Variables and Simple Data Types\n",
    "2. Introducing Lists, Tuples\n",
    "3. if Statements\n",
    "4. Dictionaries\n"
   ]
  },
  {
   "cell_type": "markdown",
   "id": "a7186198",
   "metadata": {},
   "source": [
    "**Python** language"
   ]
  },
  {
   "cell_type": "markdown",
   "id": "a0e6581e",
   "metadata": {},
   "source": [
    "#### *Jupyter Notebooks*"
   ]
  },
  {
   "cell_type": "markdown",
   "id": "89481bfa",
   "metadata": {},
   "source": [
    "I am very `nervous` about this course. I have never done this before so it makes me a little `anxious.`"
   ]
  },
  {
   "cell_type": "markdown",
   "id": "20ae8a6e",
   "metadata": {},
   "source": [
    "#### Hyperlink for Github Account\n",
    "<a href=\"https://github.com/bdenning1033\">This link is for my Github Account</a>"
   ]
  },
  {
   "cell_type": "markdown",
   "id": "588eae90",
   "metadata": {},
   "source": [
    "#### Render of BU Logo\n",
    "[Bellarmine University Knights Logo](https://images.app.goo.gl/xRC6xcwrmRuiNWA76)"
   ]
  },
  {
   "cell_type": "markdown",
   "id": "4599aadb",
   "metadata": {},
   "source": [
    "#### I learned a lot in this Markdown pracrtice. There are a lot of cool tricks and tips that was taught by our professor. This practice helped ease my mind a little bit about the future assignments we will have. I did learn that it looks easier to use when you are using Windows rather than a Macbook. I had trouble getting a link for the BU logo to come to save as an image because of not being able to right-click with the Mac."
   ]
  },
  {
   "cell_type": "code",
   "execution_count": null,
   "id": "3cd952f4",
   "metadata": {},
   "outputs": [],
   "source": []
  }
 ],
 "metadata": {
  "kernelspec": {
   "display_name": "Python 3 (ipykernel)",
   "language": "python",
   "name": "python3"
  },
  "language_info": {
   "codemirror_mode": {
    "name": "ipython",
    "version": 3
   },
   "file_extension": ".py",
   "mimetype": "text/x-python",
   "name": "python",
   "nbconvert_exporter": "python",
   "pygments_lexer": "ipython3",
   "version": "3.11.5"
  }
 },
 "nbformat": 4,
 "nbformat_minor": 5
}
